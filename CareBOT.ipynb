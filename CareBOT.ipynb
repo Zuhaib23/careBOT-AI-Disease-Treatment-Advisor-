{
 "cells": [
  {
   "cell_type": "code",
   "execution_count": 2,
   "id": "e054149e",
   "metadata": {},
   "outputs": [
    {
     "data": {
      "text/html": [
       "<div>\n",
       "<style scoped>\n",
       "    .dataframe tbody tr th:only-of-type {\n",
       "        vertical-align: middle;\n",
       "    }\n",
       "\n",
       "    .dataframe tbody tr th {\n",
       "        vertical-align: top;\n",
       "    }\n",
       "\n",
       "    .dataframe thead th {\n",
       "        text-align: right;\n",
       "    }\n",
       "</style>\n",
       "<table border=\"1\" class=\"dataframe\">\n",
       "  <thead>\n",
       "    <tr style=\"text-align: right;\">\n",
       "      <th></th>\n",
       "      <th>label</th>\n",
       "      <th>text</th>\n",
       "    </tr>\n",
       "  </thead>\n",
       "  <tbody>\n",
       "    <tr>\n",
       "      <th>0</th>\n",
       "      <td>Psoriasis</td>\n",
       "      <td>I have been experiencing a skin rash on my arm...</td>\n",
       "    </tr>\n",
       "    <tr>\n",
       "      <th>1</th>\n",
       "      <td>Psoriasis</td>\n",
       "      <td>My skin has been peeling, especially on my kne...</td>\n",
       "    </tr>\n",
       "    <tr>\n",
       "      <th>2</th>\n",
       "      <td>Psoriasis</td>\n",
       "      <td>I have been experiencing joint pain in my fing...</td>\n",
       "    </tr>\n",
       "    <tr>\n",
       "      <th>3</th>\n",
       "      <td>Psoriasis</td>\n",
       "      <td>There is a silver like dusting on my skin, esp...</td>\n",
       "    </tr>\n",
       "    <tr>\n",
       "      <th>4</th>\n",
       "      <td>Psoriasis</td>\n",
       "      <td>My nails have small dents or pits in them, and...</td>\n",
       "    </tr>\n",
       "  </tbody>\n",
       "</table>\n",
       "</div>"
      ],
      "text/plain": [
       "       label                                               text\n",
       "0  Psoriasis  I have been experiencing a skin rash on my arm...\n",
       "1  Psoriasis  My skin has been peeling, especially on my kne...\n",
       "2  Psoriasis  I have been experiencing joint pain in my fing...\n",
       "3  Psoriasis  There is a silver like dusting on my skin, esp...\n",
       "4  Psoriasis  My nails have small dents or pits in them, and..."
      ]
     },
     "execution_count": 2,
     "metadata": {},
     "output_type": "execute_result"
    }
   ],
   "source": [
    "import pandas as pd\n",
    "\n",
    "# Load your dataset\n",
    "df = pd.read_csv('D:/diseasepredictor/data/Symptom2Disease.csv')\n",
    "df = df[['label', 'text']]  # ensure correct columns\n",
    "df.dropna(inplace=True)\n",
    "\n",
    "df.head()\n"
   ]
  },
  {
   "cell_type": "code",
   "execution_count": 3,
   "id": "4d9fc627",
   "metadata": {},
   "outputs": [
    {
     "data": {
      "text/html": [
       "<div>\n",
       "<style scoped>\n",
       "    .dataframe tbody tr th:only-of-type {\n",
       "        vertical-align: middle;\n",
       "    }\n",
       "\n",
       "    .dataframe tbody tr th {\n",
       "        vertical-align: top;\n",
       "    }\n",
       "\n",
       "    .dataframe thead th {\n",
       "        text-align: right;\n",
       "    }\n",
       "</style>\n",
       "<table border=\"1\" class=\"dataframe\">\n",
       "  <thead>\n",
       "    <tr style=\"text-align: right;\">\n",
       "      <th></th>\n",
       "      <th>label</th>\n",
       "      <th>text</th>\n",
       "      <th>clean_text</th>\n",
       "    </tr>\n",
       "  </thead>\n",
       "  <tbody>\n",
       "    <tr>\n",
       "      <th>0</th>\n",
       "      <td>Psoriasis</td>\n",
       "      <td>I have been experiencing a skin rash on my arm...</td>\n",
       "      <td>i have been experiencing a skin rash on my arm...</td>\n",
       "    </tr>\n",
       "    <tr>\n",
       "      <th>1</th>\n",
       "      <td>Psoriasis</td>\n",
       "      <td>My skin has been peeling, especially on my kne...</td>\n",
       "      <td>my skin has been peeling especially on my knee...</td>\n",
       "    </tr>\n",
       "    <tr>\n",
       "      <th>2</th>\n",
       "      <td>Psoriasis</td>\n",
       "      <td>I have been experiencing joint pain in my fing...</td>\n",
       "      <td>i have been experiencing joint pain in my fing...</td>\n",
       "    </tr>\n",
       "    <tr>\n",
       "      <th>3</th>\n",
       "      <td>Psoriasis</td>\n",
       "      <td>There is a silver like dusting on my skin, esp...</td>\n",
       "      <td>there is a silver like dusting on my skin espe...</td>\n",
       "    </tr>\n",
       "    <tr>\n",
       "      <th>4</th>\n",
       "      <td>Psoriasis</td>\n",
       "      <td>My nails have small dents or pits in them, and...</td>\n",
       "      <td>my nails have small dents or pits in them and ...</td>\n",
       "    </tr>\n",
       "  </tbody>\n",
       "</table>\n",
       "</div>"
      ],
      "text/plain": [
       "       label                                               text  \\\n",
       "0  Psoriasis  I have been experiencing a skin rash on my arm...   \n",
       "1  Psoriasis  My skin has been peeling, especially on my kne...   \n",
       "2  Psoriasis  I have been experiencing joint pain in my fing...   \n",
       "3  Psoriasis  There is a silver like dusting on my skin, esp...   \n",
       "4  Psoriasis  My nails have small dents or pits in them, and...   \n",
       "\n",
       "                                          clean_text  \n",
       "0  i have been experiencing a skin rash on my arm...  \n",
       "1  my skin has been peeling especially on my knee...  \n",
       "2  i have been experiencing joint pain in my fing...  \n",
       "3  there is a silver like dusting on my skin espe...  \n",
       "4  my nails have small dents or pits in them and ...  "
      ]
     },
     "execution_count": 3,
     "metadata": {},
     "output_type": "execute_result"
    }
   ],
   "source": [
    "import re\n",
    "\n",
    "def clean_text(text):\n",
    "    text = text.lower()\n",
    "    text = re.sub(r\"[^a-zA-Z\\s]\", \"\", text)  # remove punctuation/numbers\n",
    "    text = re.sub(r\"\\s+\", \" \", text).strip()  # remove extra spaces\n",
    "    return text\n",
    "\n",
    "df['clean_text'] = df['text'].apply(clean_text)\n",
    "df.head()\n"
   ]
  },
  {
   "cell_type": "code",
   "execution_count": 4,
   "id": "5c025bb1",
   "metadata": {},
   "outputs": [],
   "source": [
    "from sklearn.feature_extraction.text import TfidfVectorizer\n",
    "\n",
    "tfidf = TfidfVectorizer(max_features=1000)  # you can increase this later\n",
    "X = tfidf.fit_transform(df['clean_text'])\n"
   ]
  },
  {
   "cell_type": "code",
   "execution_count": 5,
   "id": "fc8161e8",
   "metadata": {},
   "outputs": [],
   "source": [
    "from sklearn.preprocessing import LabelEncoder\n",
    "\n",
    "le = LabelEncoder()\n",
    "y = le.fit_transform(df['label'])\n"
   ]
  },
  {
   "cell_type": "code",
   "execution_count": 6,
   "id": "f2e305c4",
   "metadata": {},
   "outputs": [
    {
     "name": "stdout",
     "output_type": "stream",
     "text": [
      "                                 precision    recall  f1-score   support\n",
      "\n",
      "                           Acne       1.00      1.00      1.00         7\n",
      "                      Arthritis       0.91      1.00      0.95        10\n",
      "               Bronchial Asthma       1.00      1.00      1.00        11\n",
      "           Cervical spondylosis       1.00      1.00      1.00         7\n",
      "                    Chicken pox       0.91      0.83      0.87        12\n",
      "                    Common Cold       1.00      0.92      0.96        12\n",
      "                         Dengue       0.90      0.75      0.82        12\n",
      "          Dimorphic Hemorrhoids       1.00      1.00      1.00         7\n",
      "               Fungal infection       1.00      1.00      1.00        13\n",
      "                   Hypertension       1.00      1.00      1.00        10\n",
      "                       Impetigo       1.00      1.00      1.00        11\n",
      "                       Jaundice       1.00      1.00      1.00        11\n",
      "                        Malaria       1.00      1.00      1.00        11\n",
      "                       Migraine       1.00      0.90      0.95        10\n",
      "                      Pneumonia       1.00      1.00      1.00        11\n",
      "                      Psoriasis       1.00      0.83      0.91         6\n",
      "                        Typhoid       0.82      1.00      0.90         9\n",
      "                 Varicose Veins       0.85      0.92      0.88        12\n",
      "                        allergy       1.00      0.83      0.91        12\n",
      "                       diabetes       0.80      1.00      0.89         8\n",
      "                  drug reaction       0.56      1.00      0.71         5\n",
      "gastroesophageal reflux disease       0.85      1.00      0.92        11\n",
      "           peptic ulcer disease       1.00      0.64      0.78        11\n",
      "        urinary tract infection       1.00      1.00      1.00        11\n",
      "\n",
      "                       accuracy                           0.94       240\n",
      "                      macro avg       0.94      0.94      0.93       240\n",
      "                   weighted avg       0.95      0.94      0.94       240\n",
      "\n"
     ]
    }
   ],
   "source": [
    "from sklearn.model_selection import train_test_split\n",
    "from sklearn.ensemble import RandomForestClassifier\n",
    "from sklearn.metrics import classification_report\n",
    "\n",
    "X_train, X_test, y_train, y_test = train_test_split(X, y, test_size=0.2, random_state=42)\n",
    "\n",
    "clf = RandomForestClassifier()\n",
    "clf.fit(X_train, y_train)\n",
    "\n",
    "# Evaluation\n",
    "y_pred = clf.predict(X_test)\n",
    "print(classification_report(y_test, y_pred, target_names=le.classes_))\n"
   ]
  },
  {
   "cell_type": "code",
   "execution_count": 10,
   "id": "28584554",
   "metadata": {},
   "outputs": [
    {
     "data": {
      "text/plain": [
       "['D:/diseasepredictor/models/label_encoder.pkl']"
      ]
     },
     "execution_count": 10,
     "metadata": {},
     "output_type": "execute_result"
    }
   ],
   "source": [
    "import os\n",
    "import joblib\n",
    "\n",
    "# Make sure directory exists\n",
    "model_dir = 'D:/diseasepredictor/models/'\n",
    "os.makedirs(model_dir, exist_ok=True)\n",
    "\n",
    "# Save the models\n",
    "joblib.dump(clf, os.path.join(model_dir, 'text_disease_model.pkl'))\n",
    "joblib.dump(tfidf, os.path.join(model_dir, 'tfidf_vectorizer.pkl'))\n",
    "joblib.dump(le, os.path.join(model_dir, 'label_encoder.pkl'))\n"
   ]
  },
  {
   "cell_type": "code",
   "execution_count": 11,
   "id": "95d4b91e",
   "metadata": {},
   "outputs": [],
   "source": [
    "import re\n",
    "\n",
    "def clean_text(text):\n",
    "    text = text.lower()\n",
    "    text = re.sub(r\"[^a-zA-Z\\s]\", \"\", text)  # remove punctuation/numbers\n",
    "    text = re.sub(r\"\\s+\", \" \", text).strip()  # remove extra spaces\n",
    "    return text\n"
   ]
  },
  {
   "cell_type": "code",
   "execution_count": 14,
   "id": "b0e9bfb4",
   "metadata": {},
   "outputs": [
    {
     "name": "stdout",
     "output_type": "stream",
     "text": [
      "Predicted Disease: Psoriasis\n"
     ]
    }
   ],
   "source": [
    "import joblib\n",
    "\n",
    "# Load the saved model, TF-IDF vectorizer, and label encoder\n",
    "clf = joblib.load('D:/diseasepredictor/models/text_disease_model.pkl')\n",
    "tfidf = joblib.load('D:/diseasepredictor/models/tfidf_vectorizer.pkl')\n",
    "le = joblib.load('D:/diseasepredictor/models/label_encoder.pkl')\n",
    "\n",
    "# User input (symptom description)\n",
    "new_text = \"I feel tired all the time and have pain in my joints\"\n",
    "\n",
    "\n",
    "# Preprocess input\n",
    "cleaned = clean_text(new_text)\n",
    "X_input = tfidf.transform([cleaned])\n",
    "\n",
    "# Predict\n",
    "predicted = clf.predict(X_input)\n",
    "predicted_label = le.inverse_transform(predicted)\n",
    "\n",
    "# Output\n",
    "print(\"Predicted Disease:\", predicted_label[0])\n"
   ]
  },
  {
   "cell_type": "code",
   "execution_count": 1,
   "id": "e621f6a4",
   "metadata": {},
   "outputs": [
    {
     "name": "stdout",
     "output_type": "stream",
     "text": [
      "WARNING:tensorflow:From c:\\Users\\DELL\\anaconda3\\envs\\AI\\Lib\\site-packages\\tf_keras\\src\\losses.py:2976: The name tf.losses.sparse_softmax_cross_entropy is deprecated. Please use tf.compat.v1.losses.sparse_softmax_cross_entropy instead.\n",
      "\n"
     ]
    },
    {
     "data": {
      "application/vnd.jupyter.widget-view+json": {
       "model_id": "6c39190127d84b2f9b358e6126746236",
       "version_major": 2,
       "version_minor": 0
      },
      "text/plain": [
       "model.safetensors:  30%|##9       | 157M/526M [00:00<?, ?B/s]"
      ]
     },
     "metadata": {},
     "output_type": "display_data"
    },
    {
     "name": "stderr",
     "output_type": "stream",
     "text": [
      "c:\\Users\\DELL\\anaconda3\\envs\\AI\\Lib\\site-packages\\huggingface_hub\\file_download.py:143: UserWarning: `huggingface_hub` cache-system uses symlinks by default to efficiently store duplicated files but your machine does not support them in C:\\Users\\DELL\\.cache\\huggingface\\hub\\models--MoritzLaurer--DeBERTa-v3-base-mnli-fever-anli. Caching files will still work but in a degraded version that might require more space on your disk. This warning can be disabled by setting the `HF_HUB_DISABLE_SYMLINKS_WARNING` environment variable. For more details, see https://huggingface.co/docs/huggingface_hub/how-to-cache#limitations.\n",
      "To support symlinks on Windows, you either need to activate Developer Mode or to run Python as an administrator. In order to activate developer mode, see this article: https://docs.microsoft.com/en-us/windows/apps/get-started/enable-your-device-for-development\n",
      "  warnings.warn(message)\n"
     ]
    },
    {
     "data": {
      "application/vnd.jupyter.widget-view+json": {
       "model_id": "8e7c7719ef024bc19e6e12127e96550c",
       "version_major": 2,
       "version_minor": 0
      },
      "text/plain": [
       "tokenizer_config.json: 0.00B [00:00, ?B/s]"
      ]
     },
     "metadata": {},
     "output_type": "display_data"
    },
    {
     "data": {
      "application/vnd.jupyter.widget-view+json": {
       "model_id": "9603f94ec578432c9c4c07cd2d04c76d",
       "version_major": 2,
       "version_minor": 0
      },
      "text/plain": [
       "spm.model:   0%|          | 0.00/2.46M [00:00<?, ?B/s]"
      ]
     },
     "metadata": {},
     "output_type": "display_data"
    },
    {
     "data": {
      "application/vnd.jupyter.widget-view+json": {
       "model_id": "4c18452ed6764ec292e5aa3346541098",
       "version_major": 2,
       "version_minor": 0
      },
      "text/plain": [
       "tokenizer.json: 0.00B [00:00, ?B/s]"
      ]
     },
     "metadata": {},
     "output_type": "display_data"
    },
    {
     "data": {
      "application/vnd.jupyter.widget-view+json": {
       "model_id": "ba87035dd80b458e8a2c0f23ea0fff64",
       "version_major": 2,
       "version_minor": 0
      },
      "text/plain": [
       "added_tokens.json:   0%|          | 0.00/23.0 [00:00<?, ?B/s]"
      ]
     },
     "metadata": {},
     "output_type": "display_data"
    },
    {
     "data": {
      "application/vnd.jupyter.widget-view+json": {
       "model_id": "da9689ea213a4353b4513f0a305ce395",
       "version_major": 2,
       "version_minor": 0
      },
      "text/plain": [
       "special_tokens_map.json:   0%|          | 0.00/286 [00:00<?, ?B/s]"
      ]
     },
     "metadata": {},
     "output_type": "display_data"
    },
    {
     "name": "stderr",
     "output_type": "stream",
     "text": [
      "Device set to use cpu\n"
     ]
    },
    {
     "data": {
      "text/plain": [
       "<transformers.pipelines.zero_shot_classification.ZeroShotClassificationPipeline at 0x26a4df98a40>"
      ]
     },
     "execution_count": 1,
     "metadata": {},
     "output_type": "execute_result"
    }
   ],
   "source": [
    "from transformers import pipeline\n",
    "pipeline(\"zero-shot-classification\", model=\"MoritzLaurer/DeBERTa-v3-base-mnli-fever-anli\")\n"
   ]
  },
  {
   "cell_type": "code",
   "execution_count": 1,
   "id": "7526e89e",
   "metadata": {},
   "outputs": [
    {
     "name": "stdout",
     "output_type": "stream",
     "text": [
      "🛠️ PyTorch using 8 CPU threads\n",
      "🚀 Starting extraction with CPU model...\n"
     ]
    },
    {
     "name": "stderr",
     "output_type": "stream",
     "text": [
      "Device set to use cpu\n"
     ]
    },
    {
     "data": {
      "application/vnd.jupyter.widget-view+json": {
       "model_id": "4ae264fc1c1542408b4ee1e1c410aecc",
       "version_major": 2,
       "version_minor": 0
      },
      "text/plain": [
       "🔍 Processing:   0%|          | 0/12 [00:00<?, ?it/s]"
      ]
     },
     "metadata": {},
     "output_type": "display_data"
    },
    {
     "name": "stderr",
     "output_type": "stream",
     "text": [
      "Asking to truncate to max_length but no maximum length is provided and the model has no predefined maximum length. Default to no truncation.\n"
     ]
    },
    {
     "name": "stdout",
     "output_type": "stream",
     "text": [
      "✅ Completed in 2259.64 seconds\n",
      "📁 Results saved to: treatement/cpu_optimized_treatments.json\n"
     ]
    }
   ],
   "source": [
    "import os\n",
    "import json\n",
    "import wikipedia\n",
    "from transformers import pipeline\n",
    "from tqdm.auto import tqdm\n",
    "import re\n",
    "from concurrent.futures import ThreadPoolExecutor, as_completed\n",
    "import torch\n",
    "import time\n",
    "\n",
    "# ----------------------------\n",
    "# ✅ Configuration\n",
    "# ----------------------------\n",
    "torch.set_num_threads(os.cpu_count())\n",
    "print(f\"🛠️ PyTorch using {torch.get_num_threads()} CPU threads\")\n",
    "\n",
    "DISEASES = [\n",
    "    \"Psoriasis\", \"Diabetes mellitus\", \"Asthma\", \"Hypertension\", \n",
    "    \"Tuberculosis\", \"Malaria\", \"Arthritis\", \"Migraine\", \n",
    "    \"Pneumonia\", \"Hepatitis\", \"Major depressive disorder\",\n",
    "    \"Anxiety disorder\", \"Obesity\", \"Epilepsy\", \"Stroke\", \n",
    "    \"Anemia\", \"Bronchitis\", \"COVID-19\", \"Chickenpox\", \n",
    "    \"Dengue fever\", \"Cholera\", \"Thyroid disease\",\n",
    "    \"Sinusitis\", \"Allergy\"\n",
    "]\n",
    "\n",
    "BATCH_SIZE = 4\n",
    "MAX_WORKERS = min(4, os.cpu_count())\n",
    "MIN_SENTENCE_LENGTH = 10\n",
    "SCORE_THRESHOLD = 0.8\n",
    "WIKI_BATCH_SIZE = 2\n",
    "CACHE_DIR = \"./wiki_cache\"\n",
    "os.makedirs(CACHE_DIR, exist_ok=True)\n",
    "\n",
    "SENTENCE_PATTERN = re.compile(r'(?<!\\w\\.\\w.)(?<![A-Z][a-z]\\.)(?<=\\.|\\?|\\!)\\s')\n",
    "WHITESPACE_PATTERN = re.compile(r'\\s+')\n",
    "\n",
    "def clean_text(text):\n",
    "    return WHITESPACE_PATTERN.sub(' ', text).strip()\n",
    "\n",
    "# ----------------------------\n",
    "# 📄 Wikipedia Fetching\n",
    "# ----------------------------\n",
    "def fetch_single_wiki(disease):\n",
    "    cache_path = os.path.join(CACHE_DIR, f\"{disease.lower()}.txt\")\n",
    "    if os.path.exists(cache_path):\n",
    "        with open(cache_path, 'r', encoding='utf-8') as f:\n",
    "            return f.read()\n",
    "    try:\n",
    "        page = wikipedia.page(disease, auto_suggest=False)\n",
    "        content = clean_text(page.content)\n",
    "        with open(cache_path, 'w', encoding='utf-8') as f:\n",
    "            f.write(content)\n",
    "        return content\n",
    "    except Exception as e:\n",
    "        print(f\"⚠️ Failed fetching {disease}: {str(e)}\")\n",
    "        return \"\"\n",
    "\n",
    "def fetch_wikipedia_batch(diseases):\n",
    "    results = {}\n",
    "    with ThreadPoolExecutor(MAX_WORKERS) as executor:\n",
    "        futures = {executor.submit(fetch_single_wiki, d): d for d in diseases}\n",
    "        for future in as_completed(futures):\n",
    "            disease = futures[future]\n",
    "            results[disease] = future.result()\n",
    "    return results\n",
    "\n",
    "def split_sentences(text):\n",
    "    if not text:\n",
    "        return []\n",
    "    sentences = SENTENCE_PATTERN.split(text)\n",
    "    return [s.strip() for s in sentences if len(s.split()) >= MIN_SENTENCE_LENGTH]\n",
    "\n",
    "# ----------------------------\n",
    "# 🧠 Treatment Extraction\n",
    "# ----------------------------\n",
    "def process_sentence_batch(batch, classifier):\n",
    "    try:\n",
    "        results = classifier(batch, candidate_labels=[\"treatment\", \"therapy\", \"medication\"], multi_label=True)\n",
    "        return [\n",
    "            batch[i] for i, res in enumerate(results)\n",
    "            if any(score > SCORE_THRESHOLD for score in res['scores'])\n",
    "        ]\n",
    "    except Exception as e:\n",
    "        print(f\"⚠️ Batch error: {e}\")\n",
    "        return []\n",
    "\n",
    "def process_disease_batch(disease_batch, classifier):\n",
    "    wiki_contents = fetch_wikipedia_batch(disease_batch)\n",
    "    treatments = {}\n",
    "    for disease in disease_batch:\n",
    "        text = wiki_contents.get(disease, \"\")\n",
    "        sentences = split_sentences(text)\n",
    "        filtered = process_sentence_batch(sentences, classifier)\n",
    "        treatments[disease.lower()] = filtered\n",
    "    return treatments\n",
    "\n",
    "def build_treatments(diseases, classifier):\n",
    "    all_treatments = {}\n",
    "    batches = [diseases[i:i + WIKI_BATCH_SIZE] for i in range(0, len(diseases), WIKI_BATCH_SIZE)]\n",
    "    for batch in tqdm(batches, desc=\"🔍 Processing\"):\n",
    "        try:\n",
    "            batch_results = process_disease_batch(batch, classifier)\n",
    "            all_treatments.update(batch_results)\n",
    "        except Exception as e:\n",
    "            print(f\"⚠️ Error in batch: {e}\")\n",
    "            for d in batch:\n",
    "                all_treatments[d.lower()] = []\n",
    "    return all_treatments\n",
    "\n",
    "# ----------------------------\n",
    "# 🚀 Main Execution\n",
    "# ----------------------------\n",
    "def main():\n",
    "    print(\"🚀 Starting extraction with CPU model...\")\n",
    "\n",
    "    classifier = pipeline(\n",
    "        \"zero-shot-classification\",\n",
    "        model=\"MoritzLaurer/DeBERTa-v3-base-mnli-fever-anli\",  # ✅ Light and CPU-friendly\n",
    "        device=-1,\n",
    "        batch_size=BATCH_SIZE,\n",
    "        framework=\"pt\"\n",
    "    )\n",
    "\n",
    "    start_time = time.time()\n",
    "    treatment_data = build_treatments(DISEASES, classifier)\n",
    "\n",
    "    output_file = \"treatement/cpu_optimized_treatments.json\"\n",
    "    os.makedirs(os.path.dirname(output_file), exist_ok=True)\n",
    "    with open(output_file, 'w', encoding='utf-8') as f:\n",
    "        json.dump(treatment_data, f, indent=4, ensure_ascii=False)\n",
    "\n",
    "    print(f\"✅ Completed in {time.time() - start_time:.2f} seconds\")\n",
    "    print(f\"📁 Results saved to: {output_file}\")\n",
    "\n",
    "if __name__ == \"__main__\":\n",
    "    main()\n"
   ]
  },
  {
   "cell_type": "code",
   "execution_count": null,
   "id": "c7d18530",
   "metadata": {},
   "outputs": [
    {
     "data": {
      "text/html": [
       "\n",
       "<style>\n",
       "textarea, input, select {\n",
       "    font-family: 'Segoe UI', sans-serif;\n",
       "    font-size: 16px;\n",
       "}\n",
       "h3, h4 {\n",
       "    font-weight: 600;\n",
       "}\n",
       "button:hover {\n",
       "    opacity: 0.9;\n",
       "    transition: 0.2s ease-in-out;\n",
       "}\n",
       "</style>\n"
      ],
      "text/plain": [
       "<IPython.core.display.HTML object>"
      ]
     },
     "metadata": {},
     "output_type": "display_data"
    },
    {
     "name": "stderr",
     "output_type": "stream",
     "text": [
      "Device set to use cpu\n"
     ]
    },
    {
     "data": {
      "application/vnd.jupyter.widget-view+json": {
       "model_id": "0eb9fb9a130f4e3d84631877efb1f950",
       "version_major": 2,
       "version_minor": 0
      },
      "text/plain": [
       "VBox(children=(HTML(value='\\n    <div style=\"background-color:#1a5276; padding:20px; border-radius:10px; text-…"
      ]
     },
     "metadata": {},
     "output_type": "display_data"
    }
   ],
   "source": [
    "import os, re, json, time, joblib, base64\n",
    "import ipywidgets as widgets\n",
    "from IPython.display import display, clear_output, HTML\n",
    "from transformers import pipeline\n",
    "import matplotlib.pyplot as plt\n",
    "import seaborn as sns\n",
    "\n",
    "# ==== STYLING ====\n",
    "sns.set_style(\"whitegrid\")\n",
    "plt.style.use('default')\n",
    "plt.rcParams['figure.facecolor'] = 'white'\n",
    "\n",
    "primary_color = '#1a5276'\n",
    "secondary_color = '#2980b9'\n",
    "accent_color = '#e74c3c'\n",
    "background_color = '#f5f9ff'\n",
    "\n",
    "display(HTML(\"\"\"\n",
    "<style>\n",
    "textarea, input, select {\n",
    "    font-family: 'Segoe UI', sans-serif;\n",
    "    font-size: 16px;\n",
    "}\n",
    "h3, h4 {\n",
    "    font-weight: 600;\n",
    "}\n",
    "button:hover {\n",
    "    opacity: 0.9;\n",
    "    transition: 0.2s ease-in-out;\n",
    "}\n",
    "</style>\n",
    "\"\"\"))\n",
    "\n",
    "# ==== LOAD MODELS AND DATA ====\n",
    "MODEL_DIR = 'D:/diseasepredictor/models'\n",
    "TREATMENT_FILE = 'treatement/cpu_optimized_treatments.json'\n",
    "\n",
    "try:\n",
    "    clf = joblib.load(os.path.join(MODEL_DIR, 'text_disease_model.pkl'))\n",
    "    tfidf = joblib.load(os.path.join(MODEL_DIR, 'tfidf_vectorizer.pkl'))\n",
    "    le = joblib.load(os.path.join(MODEL_DIR, 'label_encoder.pkl'))\n",
    "    with open(TREATMENT_FILE, 'r', encoding='utf-8') as f:\n",
    "        treatment_data = json.load(f)\n",
    "except Exception as e:\n",
    "    raise RuntimeError(f\"❌ Failed to load models or data: {str(e)}\")\n",
    "\n",
    "summarizer = pipeline(\"summarization\", model=\"sshleifer/distilbart-cnn-12-6\", device=-1)\n",
    "\n",
    "# ==== EXAMPLES ====\n",
    "EXAMPLE_SYMPTOMS = {\n",
    "    \"Psoriasis\": \"Red patches of skin covered with thick, silvery scales, dry cracked skin that may bleed, itching and burning\",\n",
    "    \"Diabetes\": \"Increased thirst, frequent urination, extreme hunger, unexplained weight loss, fatigue\",\n",
    "    \"Eczema\": \"Itchy, inflamed skin, rough leathery patches, oozing or crusting, swelling\"\n",
    "}\n",
    "\n",
    "# ==== UI COMPONENTS ====\n",
    "header = widgets.HTML(\n",
    "    value=f\"\"\"\n",
    "    <div style=\"background-color:{primary_color}; padding:20px; border-radius:10px; text-align:center; color:white\">\n",
    "        <h1><i class=\"fa fa-heartbeat\" style=\"margin-right:10px\"></i>AI Disease & Treatment Advisor(careBOT)</h1>\n",
    "        <p style=\"margin:0\">Clinical Decision Support System</p>\n",
    "    </div>\"\"\"\n",
    ")\n",
    "\n",
    "symptom_input = widgets.Textarea(\n",
    "    placeholder=\"Describe your symptoms in detail (e.g., 'red itchy rash on elbows')\",\n",
    "    layout=widgets.Layout(width='90%', height='150px')\n",
    ")\n",
    "\n",
    "char_counter = widgets.HTML(\"<p style='text-align:right; margin:0'>0/500 characters</p>\")\n",
    "\n",
    "def update_counter(change):\n",
    "    char_counter.value = f\"<p style='text-align:right; margin:0'>{len(change.new)}/500 characters</p>\"\n",
    "\n",
    "symptom_input.observe(update_counter, names='value')\n",
    "\n",
    "example_dropdown = widgets.Dropdown(\n",
    "    options=[(\"Select example...\", \"\")] + list(EXAMPLE_SYMPTOMS.items()),\n",
    "    description=\"Load example:\",\n",
    "    style={'description_width': 'initial'}\n",
    ")\n",
    "example_dropdown.observe(lambda change: setattr(symptom_input, 'value', change.new if change.new else \"\"), names='value')\n",
    "\n",
    "predict_button = widgets.Button(description=\"Analyze Symptoms\", button_style='success', icon='stethoscope')\n",
    "clear_button = widgets.Button(description=\"Clear\", button_style='warning', icon='eraser')\n",
    "output_area = widgets.Output()\n",
    "\n",
    "# ==== HELPERS ====\n",
    "def clean_text(text):\n",
    "    return re.sub(r'\\s+', ' ', text).strip().lower()\n",
    "\n",
    "def create_severity_indicator(level):\n",
    "    colors = ['#2ecc71', '#f39c12', '#e74c3c']\n",
    "    label = [\"Low\", \"Medium\", \"High\"][level]\n",
    "    return widgets.HTML(\n",
    "        f\"\"\"<div style=\"display:flex; align-items:center\">\n",
    "            <div style=\"width:20px; height:20px; background-color:{colors[level]}; border-radius:50%; margin-right:10px\"></div>\n",
    "            <span>{label} severity</span>\n",
    "        </div>\"\"\"\n",
    "    )\n",
    "\n",
    "def group_by_category(treatments):\n",
    "    categories = {\n",
    "        \"Topical treatments\": [\"cream\", \"ointment\", \"topical\", \"tar\", \"moisturizer\", \"corticosteroid\"],\n",
    "        \"Systemic treatments\": [\"oral\", \"systemic\", \"methotrexate\", \"DMARD\", \"steroid\", \"insulin\"],\n",
    "        \"Biologics\": [\"biologic\", \"TNF\", \"interleukin\", \"antibody\", \"mab\"],\n",
    "        \"Lifestyle & Diet tips\": [\"diet\", \"exercise\", \"stress\", \"lifestyle\", \"avoid\", \"trigger\"]\n",
    "    }\n",
    "    grouped = {k: [] for k in categories}\n",
    "    grouped[\"Other\"] = []\n",
    "    for treatment in treatments:\n",
    "        lower = treatment.lower()\n",
    "        for cat, keywords in categories.items():\n",
    "            if any(kw in lower for kw in keywords):\n",
    "                grouped[cat].append(treatment)\n",
    "                break\n",
    "        else:\n",
    "            grouped[\"Other\"].append(treatment)\n",
    "    return grouped\n",
    "\n",
    "def predict_disease(symptoms):\n",
    "    cleaned = clean_text(symptoms)\n",
    "    X_input = tfidf.transform([cleaned])\n",
    "    pred_idx = clf.predict(X_input)\n",
    "    probs = clf.predict_proba(X_input)\n",
    "    confidence = round(max(probs[0]) * 100, 2)\n",
    "    disease = le.inverse_transform(pred_idx)[0]\n",
    "    treatments = treatment_data.get(disease.lower(), [])\n",
    "    severity = 2 if \"severe\" in cleaned else 0 if \"mild\" in cleaned else 1\n",
    "    return disease, severity, treatments, confidence\n",
    "\n",
    "def generate_report(symptoms, disease, treatments):\n",
    "    return f\"\"\"--- AI Diagnosis Report ---\n",
    "Reported Symptoms:\n",
    "{symptoms}\n",
    "\n",
    "Predicted Disease: {disease}\n",
    "Top 5 Treatments:\n",
    "{', '.join(treatments[:5]) if treatments else 'No treatments found.'}\n",
    "\n",
    "Disclaimer:\n",
    "This tool does not replace professional medical advice.\n",
    "\"\"\"\n",
    "\n",
    "# ==== EVENTS ====\n",
    "def on_predict_click(_):\n",
    "    with output_area:\n",
    "        clear_output()\n",
    "        if not symptom_input.value.strip():\n",
    "            print(\"❗ Please describe your symptoms.\")\n",
    "            return\n",
    "        if len(symptom_input.value) < 15:\n",
    "            print(\"❗ Please provide at least 15 characters.\")\n",
    "            return\n",
    "        display(widgets.HTML(\"<p style='text-align:center'><i class='fa fa-spinner fa-spin fa-2x'></i><br>Analyzing...</p>\"))\n",
    "        time.sleep(1)\n",
    "        disease, severity, treatments, confidence = predict_disease(symptom_input.value)\n",
    "        clear_output()\n",
    "        display(widgets.HTML(\n",
    "            f\"\"\"<div style=\"background-color:{background_color}; padding:20px; border-radius:10px;\">\n",
    "                <h2 style=\"color:{primary_color}\">Diagnosis Results</h2>\n",
    "                <div style=\"display:flex; justify-content:space-between\">\n",
    "                    <div>\n",
    "                        <p><strong>Reported Symptoms:</strong><br><em>{symptom_input.value}</em></p>\n",
    "                    </div>\n",
    "                    <div style=\"text-align:right\">\n",
    "                        <h3 style=\"color:{accent_color}; margin:0\">{disease}</h3>\n",
    "                        <p>Confidence: <strong>{confidence}%</strong></p>\n",
    "                        {create_severity_indicator(severity).value}\n",
    "                    </div>\n",
    "                </div>\n",
    "            </div>\"\"\"\n",
    "        ))\n",
    "        if treatments:\n",
    "            try:\n",
    "                summary = summarizer(\" \".join(treatments[:20])[:1024], max_length=100, min_length=30, do_sample=False)[0]['summary_text']\n",
    "                display(widgets.HTML(f\"\"\"\n",
    "                <div style=\"background-color:#f5f5f5; padding:15px; border-radius:8px; margin:15px 0\">\n",
    "                    <h3 style=\"color:{primary_color}\"><i class=\"fa fa-list-ul\" style=\"margin-right:10px\"></i>Treatment Overview</h3>\n",
    "                    <p>{summary}</p>\n",
    "                </div>\n",
    "                \"\"\"))\n",
    "            except Exception as e:\n",
    "                print(\"⚠️ Could not summarize treatment info:\", e)\n",
    "            grouped = group_by_category(treatments)\n",
    "            for cat, items in grouped.items():\n",
    "                if items:\n",
    "                    accordion = widgets.Accordion(children=[\n",
    "                        widgets.HTML(\"<ul>\" + \"\".join([f\"<li>{t}</li>\" for t in items]) + \"</ul>\")\n",
    "                    ])\n",
    "                    accordion.set_title(0, cat)\n",
    "                    display(accordion)\n",
    "\n",
    "            # === DOWNLOAD REPORT BUTTON ===\n",
    "            report = generate_report(symptom_input.value, disease, treatments)\n",
    "            b64_report = base64.b64encode(report.encode()).decode()\n",
    "            href = f'<a download=\"diagnosis_report.txt\" href=\"data:text/plain;base64,{b64_report}\" target=\"_blank\"><button style=\"padding:10px 20px; font-size:16px; background-color:#3498db; color:white; border:none; border-radius:5px; cursor:pointer;\">📄 Download Report</button></a>'\n",
    "            display(HTML(href))\n",
    "        else:\n",
    "            display(widgets.HTML(\n",
    "                f\"\"\"<div style=\"border:1px solid #ccc; border-radius:10px; padding:15px; background-color:#fff8e1\">\n",
    "                    <h3 style=\"color:{accent_color}\"><i class=\"fa fa-info-circle\"></i> Note</h3>\n",
    "                    <p>No treatments found for this disease. Please consult a doctor.</p>\n",
    "                </div>\"\"\"\n",
    "            ))\n",
    "        display(widgets.HTML(\n",
    "            f\"\"\"<div style=\"border:1px solid #ccc; border-radius:10px; padding:15px; margin-top:15px\">\n",
    "                <h4 style=\"margin-top:0; color:{accent_color}\">\n",
    "                    <i class=\"fa fa-exclamation-triangle\"></i> Important Disclaimer\n",
    "                </h4>\n",
    "                <p>This tool provides suggestions based on AI models and should not replace consultation with licensed healthcare professionals.</p>\n",
    "            </div>\"\"\"\n",
    "        ))\n",
    "\n",
    "def on_clear_click(_):\n",
    "    symptom_input.value = \"\"\n",
    "    example_dropdown.value = \"\"\n",
    "    with output_area: clear_output()\n",
    "\n",
    "predict_button.on_click(on_predict_click)\n",
    "clear_button.on_click(on_clear_click)\n",
    "\n",
    "# ==== LAYOUT ====\n",
    "input_box = widgets.VBox([\n",
    "    widgets.HTML(f\"<h3 style='color:{primary_color}'>Describe Your Symptoms</h3>\"),\n",
    "    symptom_input,\n",
    "    char_counter,\n",
    "    widgets.HBox([example_dropdown], layout=widgets.Layout(justify_content='flex-end')),\n",
    "    widgets.HBox([predict_button, clear_button], layout=widgets.Layout(justify_content='center'))\n",
    "], layout=widgets.Layout(width='90%', margin='20px 0'))\n",
    "\n",
    "app = widgets.VBox([\n",
    "    header,\n",
    "    widgets.HTML(\"<div style='height:20px'></div>\"),\n",
    "    input_box,\n",
    "    output_area\n",
    "], layout=widgets.Layout(align_items='center'))\n",
    "\n",
    "# ==== DISPLAY ====\n",
    "display(app)\n"
   ]
  }
 ],
 "metadata": {
  "kernelspec": {
   "display_name": "AI",
   "language": "python",
   "name": "python3"
  },
  "language_info": {
   "codemirror_mode": {
    "name": "ipython",
    "version": 3
   },
   "file_extension": ".py",
   "mimetype": "text/x-python",
   "name": "python",
   "nbconvert_exporter": "python",
   "pygments_lexer": "ipython3",
   "version": "3.12.8"
  }
 },
 "nbformat": 4,
 "nbformat_minor": 5
}
